{
 "cells": [
  {
   "cell_type": "code",
   "execution_count": null,
   "metadata": {},
   "outputs": [],
   "source": [
    "import os\n",
    "import sys\n",
    "import cv2\n",
    "import sklearn\n",
    "from matplotlib import pyplot as plt\n",
    "import seaborn as sns\n",
    "import pandas as pd\n",
    "\n",
    "from local_config import CURRENT_DIR\n",
    "sys.path.append(os.path.join(CURRENT_DIR, \"..\"))\n",
    "from config import Config\n",
    "from data_loader import BehavioralDataset"
   ]
  },
  {
   "cell_type": "code",
   "execution_count": null,
   "metadata": {},
   "outputs": [],
   "source": [
    "dt_config = Config()\n",
    "ds = BehavioralDataset(path_to_data=dt_config.DATA_PATH)"
   ]
  },
  {
   "cell_type": "code",
   "execution_count": null,
   "metadata": {},
   "outputs": [],
   "source": [
    "triples, measurements = ds.load_data()\n",
    "\n",
    "steering_angles_pd = pd.Series(measurements, name=\"steering angle\")\n",
    "ax = sns.distplot(steering_angles_pd)\n",
    "ax.set_title(\"Steering Angles on Center Images without Augmentation\")\n",
    "plt.savefig(\"steering_angle_distribution_without_augmentation.png\")"
   ]
  },
  {
   "cell_type": "raw",
   "metadata": {},
   "source": [
    "# steering_angles_pd = pd.Series(y_train, name=\"steering angle\")\n",
    "ax = sns.distplot(steering_angles_pd)\n",
    "ax.set_title(\"Fig.2: Steering Angles on Center Images with Augmentation\")\n",
    "plt.savefig(\"steering_angle_distribution_with_augmentation.png\")"
   ]
  }
 ],
 "metadata": {
  "kernelspec": {
   "display_name": "Python 3",
   "language": "python",
   "name": "python3"
  },
  "language_info": {
   "codemirror_mode": {
    "name": "ipython",
    "version": 3
   },
   "file_extension": ".py",
   "mimetype": "text/x-python",
   "name": "python",
   "nbconvert_exporter": "python",
   "pygments_lexer": "ipython3",
   "version": "3.6.6"
  }
 },
 "nbformat": 4,
 "nbformat_minor": 2
}
