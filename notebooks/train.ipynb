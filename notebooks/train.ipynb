{
 "cells": [
  {
   "cell_type": "code",
   "execution_count": null,
   "metadata": {},
   "outputs": [],
   "source": [
    "import os\n",
    "import sys\n",
    "import cv2\n",
    "import sklearn\n",
    "from matplotlib import pyplot as plt\n",
    "import seaborn as sns\n",
    "import pandas as pd\n",
    "\n",
    "from local_config import CURRENT_DIR\n",
    "sys.path.append(os.path.join(CURRENT_DIR, \"..\"))\n",
    "from config import Config\n",
    "from data_loader import BehavioralDataset\n",
    "from data_loader import batch_generator"
   ]
  },
  {
   "cell_type": "code",
   "execution_count": null,
   "metadata": {},
   "outputs": [],
   "source": [
    "from sklearn.model_selection import train_test_split\n",
    "from sklearn.utils import shuffle\n",
    "from config import Config\n",
    "from data_loader import BehavioralDataset\n",
    "from models import BehavioralModel\n",
    "from tensorflow.keras.callbacks import ModelCheckpoint, ReduceLROnPlateau, EarlyStopping\n",
    "\n",
    "def load_data(dataset):\n",
    "    triple_x_train, y_train = dataset.load_data()\n",
    "    triple_x_train, triple_x_val, y_train, y_val = train_test_split(triple_x_train, y_train, test_size=0.2, random_state=42)\n",
    "    return triple_x_train, triple_x_val, y_train, y_val"
   ]
  },
  {
   "cell_type": "code",
   "execution_count": null,
   "metadata": {},
   "outputs": [],
   "source": [
    "dt_config = Config()\n",
    "dataset = BehavioralDataset(path_to_data=dt_config.DATA_PATH)\n",
    "triple_x_train, triple_x_val, y_train, y_val = load_data(dataset)"
   ]
  },
  {
   "cell_type": "code",
   "execution_count": null,
   "metadata": {},
   "outputs": [],
   "source": [
    "model = BehavioralModel(input_shape=(160, 320, 3))\n",
    "callbacks = [\n",
    "    ModelCheckpoint(\n",
    "        os.path.join(dt_config.SAVED_MODELS_PATH, \"model-{epoch:03d}.h5\"),\n",
    "        monitor=\"val_loss\", \n",
    "        verbose=1,\n",
    "        save_best_only=True,\n",
    "        mode=\"auto\", period=1\n",
    "    ),\n",
    "    ReduceLROnPlateau(monitor=\"val_loss\",\n",
    "                      factor=0.1,\n",
    "                      patience=7,\n",
    "                      verbose=0,\n",
    "                      mode=\"auto\",\n",
    "                      min_lr=0.00001),\n",
    "    EarlyStopping(monitor=\"val_loss\",\n",
    "                  min_delta=0,\n",
    "                  patience=15,\n",
    "                  verbose=0,\n",
    "                  mode=\"auto\"),\n",
    "    ]\n",
    "\n",
    "history = model.fit_generator(\n",
    "    batch_generator(triple_x_train, y_train, dt_config.BATCH_SIZE),\n",
    "    epochs=dt_config.EPOCHS,\n",
    "    steps_per_epoch=len(triple_x_train) * 6 //dt_config.BATCH_SIZE + 1,\n",
    "    validation_data=batch_generator(triple_x_val, y_val, dt_config.BATCH_SIZE, False),\n",
    "    validation_steps=(len(triple_x_val)-1)//dt_config.BATCH_SIZE +1,\n",
    "    callbacks=callbacks,\n",
    ")"
   ]
  },
  {
   "cell_type": "code",
   "execution_count": null,
   "metadata": {},
   "outputs": [],
   "source": [
    "from matplotlib import pyplot as plt\n",
    "\n",
    "train_loss = history.history[\"loss\"]\n",
    "val_loss = history.history[\"val_loss\"]\n",
    "if \"acc\" in history.history:\n",
    "   train_acc = history.history[\"acc\"]\n",
    "   val_acc = history.history[\"val_acc\"]\n",
    "epoch_nums = len(train_loss)\n",
    "\n",
    "if \"acc\" in history.history:\n",
    "   fig, ax = plt.subplots(nrows=2, ncols=1, figsize=(10,10))\n",
    "   loss_ax = ax[0]\n",
    "else:\n",
    "   fig, ax = plt.subplots(nrows=1, ncols=1, figsize=(10,10))\n",
    "   loss_ax = ax\n",
    "\n",
    "loss_ax.set_xlabel(\"epochs\");\n",
    "loss_ax.set_ylabel(\"loss\")\n",
    "loss_ax.set_title(\"loss\")\n",
    "loss_ax.plot(range(0,epoch_nums), train_loss, label=\"train loss\")\n",
    "loss_ax.plot(range(0,epoch_nums), val_loss, label=\"val loss\")\n",
    "loss_ax.legend()\n",
    "\n",
    "if \"acc\" in history.history:\n",
    "   ax[1].set_xlabel(\"epochs\");\n",
    "   ax[1].set_ylabel(\"val\")\n",
    "   ax[1].set_title(\"accuracy\")\n",
    "   ax[1].plot(range(0,epoch_nums), train_acc, label=\"train acc\")\n",
    "   ax[1].plot(range(0,epoch_nums), val_acc, label=\"val acc\")\n",
    "   ax[1].legend()\n",
    "\n",
    "plt.suptitle(\"train-val logs\")\n",
    "# plt.show()\n",
    "plt.savefig(\"train_val_logs.png\")"
   ]
  }
 ],
 "metadata": {
  "kernelspec": {
   "display_name": "Python 3",
   "language": "python",
   "name": "python3"
  },
  "language_info": {
   "codemirror_mode": {
    "name": "ipython",
    "version": 3
   },
   "file_extension": ".py",
   "mimetype": "text/x-python",
   "name": "python",
   "nbconvert_exporter": "python",
   "pygments_lexer": "ipython3",
   "version": "3.6.6"
  }
 },
 "nbformat": 4,
 "nbformat_minor": 2
}
